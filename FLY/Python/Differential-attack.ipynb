{
 "cells": [
  {
   "cell_type": "markdown",
   "id": "5f9dfbaa",
   "metadata": {},
   "source": [
    "# Key-Recovery-Attack Friendly Distinguisher of FLY"
   ]
  },
  {
   "cell_type": "code",
   "execution_count": 1,
   "id": "b17c511d",
   "metadata": {},
   "outputs": [],
   "source": [
    "from fly import *\n",
    "import os\n",
    "import pickle\n",
    "import math\n",
    "import time"
   ]
  },
  {
   "cell_type": "markdown",
   "id": "22784cc4",
   "metadata": {},
   "source": [
    "# SBPN Setting (S-box and Rotation off-set)"
   ]
  },
  {
   "cell_type": "code",
   "execution_count": 2,
   "id": "4aab6d1a",
   "metadata": {},
   "outputs": [],
   "source": [
    "\n",
    "\n",
    "FLY_Sbox = ( 0x00, 0x9B, 0xC2, 0x15, 0x5D, 0x84, 0x4C, 0xD1, 0x67, 0x38, 0xEF, 0xB0, 0x7E, 0x2B, 0xF6, 0xA3 ,\n",
    "             0xB9, 0xAA, 0x36, 0x78, 0x2F, 0x6E, 0xE3, 0xF7, 0x12, 0x5C, 0x9A, 0xD4, 0x89, 0xCD, 0x01, 0x45 ,\n",
    "             0x2C, 0x63, 0x44, 0xDE, 0x02, 0x96, 0x39, 0x70, 0xBA, 0xE4, 0x18, 0x57, 0xA1, 0xF5, 0x8B, 0xCE ,\n",
    "             0x51, 0x87, 0xED, 0xFF, 0xB5, 0xA8, 0xCA, 0x1B, 0xDF, 0x90, 0x6C, 0x32, 0x46, 0x03, 0x7D, 0x29 ,\n",
    "             0xD5, 0xF2, 0x20, 0x5B, 0xCC, 0x31, 0x04, 0xBD, 0xA6, 0x41, 0x8E, 0x79, 0xEA, 0x9F, 0x68, 0x1C ,\n",
    "             0x48, 0xE6, 0x69, 0x8A, 0x13, 0x77, 0x9E, 0xAF, 0xF3, 0x05, 0xCB, 0x2D, 0xB4, 0xD0, 0x37, 0x52 ,\n",
    "             0xC4, 0x3E, 0x93, 0xAC, 0x40, 0xE9, 0x22, 0x56, 0x7B, 0x8D, 0xF1, 0x06, 0x17, 0x62, 0xBF, 0xDA ,\n",
    "             0x1D, 0x7F, 0x07, 0xB1, 0xDB, 0xFA, 0x65, 0x88, 0x2E, 0xC9, 0xA5, 0x43, 0x58, 0x3C, 0xE0, 0x94 ,\n",
    "             0x76, 0x21, 0xAB, 0xFD, 0x6A, 0x3F, 0xB7, 0xE2, 0xDD, 0x4F, 0x53, 0x8C, 0xC0, 0x19, 0x95, 0x08 ,\n",
    "             0x83, 0xC5, 0x4E, 0x09, 0x14, 0x50, 0xD8, 0x9C, 0xF4, 0xEE, 0x27, 0x61, 0x3B, 0x7A, 0xA2, 0xB6 ,\n",
    "             0xFE, 0xA9, 0x81, 0xC6, 0xE8, 0xBC, 0x1F, 0x5A, 0x35, 0x72, 0x99, 0x0A, 0xD3, 0x47, 0x24, 0x6D ,\n",
    "             0x0B, 0x4D, 0x75, 0x23, 0x97, 0xD2, 0x60, 0x34, 0xC8, 0x16, 0xA0, 0xBB, 0xFC, 0xE1, 0x5E, 0x8F ,\n",
    "             0xE7, 0x98, 0x1A, 0x64, 0xAE, 0x4B, 0x71, 0x85, 0x0C, 0xB3, 0x3D, 0xCF, 0x55, 0x28, 0xD9, 0xF0 ,\n",
    "             0xB2, 0xDC, 0x5F, 0x30, 0xF9, 0x0D, 0x26, 0xC3, 0x91, 0xA7, 0x74, 0x1E, 0x82, 0x66, 0x4A, 0xEB ,\n",
    "             0x6F, 0x10, 0xB8, 0xD7, 0x86, 0x73, 0xFB, 0x0E, 0x59, 0x2A, 0x42, 0xE5, 0x9D, 0xA4, 0x33, 0xC7 ,\n",
    "             0x3A, 0x54, 0xEC, 0x92, 0xC1, 0x25, 0xAD, 0x49, 0x80, 0x6B, 0xD6, 0xF8, 0x0F, 0xBE, 0x7C, 0x11 )\n",
    "fly_offset      = (7, 6, 5, 4, 3, 2, 1, 0)\n",
    "NUM_SBOX_IN_A_STATE = 8\n",
    "ALGNAME = \"FLY\"\n",
    "\n",
    "K = SRBPN_cipher(FLY_Sbox, fly_offset, NUM_SBOX_IN_A_STATE, ALGNAME)\n",
    "\n",
    "libastbb_srbn.Cal_Key_Recovery_Comp_11R.restype = c_double\n",
    "libastbb_srbn.Cal_Key_Recovery_Comp_12R.restype = c_double\n"
   ]
  },
  {
   "cell_type": "markdown",
   "id": "5c2f7cd1",
   "metadata": {},
   "source": [
    "# Enumerate all input-output differential pairs of FLY cipher trails with probability ≥ 2^-63.\n",
    "- Due to the file I/O structure, it runs slower on Windows and much faster on Linux."
   ]
  },
  {
   "cell_type": "code",
   "execution_count": 3,
   "id": "c788d898",
   "metadata": {},
   "outputs": [
    {
     "name": "stdout",
     "output_type": "stream",
     "text": [
      "[0.0, -4.0, -8.0, -16.0, -26.0, -34.0, -42.0, -50.0, -58.0]\n",
      "elapsed_time : 714.849648sec\n"
     ]
    }
   ],
   "source": [
    "fly_tar_rounds = 8\n",
    "\n",
    "PROB_DICT = [0]\n",
    "for r_idx in range(1, fly_tar_rounds+1):\n",
    "    PROB_DICT = K.get_BDP(r_idx, PROB_DICT)\n",
    "print(PROB_DICT)\n",
    "PROB_DICT[-1] = -63.0\n",
    "start_time = time.time()\n",
    "K.get_all_BDT(fly_tar_rounds, PROB_DICT)\n",
    "end_time = time.time()\n",
    "elapsed_time = end_time - start_time\n",
    "\n",
    "print(f\"elapsed_time : {elapsed_time:.6f}sec\")"
   ]
  },
  {
   "cell_type": "markdown",
   "id": "a54d3f5e",
   "metadata": {},
   "source": [
    "# Computation of key-recovery complexity using the distinguisher proposed in “Generating Graphs Packed with Paths” (Hall-Andersen & Vejre, FSE 2019), within our framework.\n"
   ]
  },
  {
   "cell_type": "code",
   "execution_count": 4,
   "id": "1e74fd84",
   "metadata": {},
   "outputs": [],
   "source": [
    "\"\"\"\n",
    "Running the program provided in the paper “Generating Graphs Packed with Paths” yields 20 differential trails.  \n",
    "Since the output changes each time the program runs, it can be inferred that there are more trails available internally,  \n",
    "but only 20 are printed.  \n",
    "Even if different trails are output, the key-recovery complexity remains the same,  \n",
    "as they share the same activity pattern.\n",
    "The following are the 20 differential trails obtained.\n",
    "\"\"\"\n",
    "\n",
    "differentials =[(0xd800000000000000,0x0044000000440000),\n",
    "(0x0000e80000000000,0x0000004400000044),\n",
    "(0x00000000008c0000,0x0000440000004400),\n",
    "(0x000000000000008e,0x4400000044000000),\n",
    "(0x00000000000000e8,0x4400000044000000),\n",
    "(0x00e8000000000000,0x0000440000004400),\n",
    "(0x00d8000000000000,0x0000440000004400),\n",
    "(0x0000000000008d00,0x0000004400000044),\n",
    "(0x00008d0000000000,0x0000004400000044),\n",
    "(0x8f00000000000000,0x0044000000440000),\n",
    "(0x0000000000008f00,0x0000004400000044),\n",
    "(0x0000000000d80000,0x0000440000004400),\n",
    "(0x0000008c00000000,0x4400000044000000),\n",
    "(0x00000000000000f8,0x4400000044000000),\n",
    "(0x00000000e8000000,0x0044000000440000),\n",
    "(0x00c8000000000000,0x0000440000004400),\n",
    "(0x000000000000008d,0x4400000044000000),\n",
    "(0x00000000008d0000,0x0000440000004400),\n",
    "(0x00000000000000c8,0x4400000044000000),\n",
    "(0xe800000000000000,0x0044000000440000),]"
   ]
  },
  {
   "cell_type": "markdown",
   "id": "8615a2c8",
   "metadata": {},
   "source": [
    "# The results of the paper “Generating Graphs Packed with Paths” can also be verified using our tool as follows.\n",
    "- GAP determines how many trails to cluster based on a given bound.\n",
    "- For example, if GAP = 5 and the current differential bound is 2^-p,\n",
    "- all individual trails with probability ≥ 2^(-p-5) will be clustered."
   ]
  },
  {
   "cell_type": "code",
   "execution_count": 5,
   "id": "26045b8d",
   "metadata": {},
   "outputs": [],
   "source": [
    "GAP = 5\n",
    "fly_tar_rounds = 8\n",
    "\n",
    "PROB_DICT = [0]\n",
    "for r_idx in range(1, fly_tar_rounds+1):\n",
    "    PROB_DICT = K.get_BDP(r_idx, PROB_DICT)\n",
    "differentials_repre = []\n",
    "for diff in differentials:\n",
    "    x = (endian_change(diff[0]), list_to_int(K.INVPERM(int_to_list(endian_change(diff[1])))))\n",
    "    differentials_repre.append(x)\n",
    "    K.get_DT_IO(GAP, fly_tar_rounds, PROB_DICT, int_to_list(x[0]), int_to_list(x[1]))"
   ]
  },
  {
   "cell_type": "code",
   "execution_count": 6,
   "id": "d735f6fa",
   "metadata": {},
   "outputs": [
    {
     "name": "stdout",
     "output_type": "stream",
     "text": [
      "98.79758420388566\n",
      "Total Probability: -55.77118130950412\n",
      "98.79758420388566\n",
      "Total Probability: -55.714597781137755\n",
      "90.87203482290003\n",
      "Total Probability: -55.77118130950412\n",
      "98.79758420388566\n",
      "Total Probability: -55.714597781137755\n",
      "98.79758420388566\n",
      "Total Probability: -55.714597781137755\n",
      "98.79758420388566\n",
      "Total Probability: -55.714597781137755\n",
      "98.79758420388566\n",
      "Total Probability: -55.77118130950412\n",
      "98.79758420388566\n",
      "Total Probability: -55.77118130950412\n",
      "98.79758420388566\n",
      "Total Probability: -55.77118130950412\n",
      "106.7619701274411\n",
      "Total Probability: -55.77118130950412\n",
      "106.7619701274411\n",
      "Total Probability: -55.77118130950412\n",
      "98.79758420388566\n",
      "Total Probability: -55.77118130950412\n",
      "90.87203482290003\n",
      "Total Probability: -55.77118130950412\n",
      "106.7619701274411\n",
      "Total Probability: -55.77118130950412\n",
      "98.79758420388566\n",
      "Total Probability: -55.714597781137755\n",
      "90.87203482290003\n",
      "Total Probability: -55.77118130950412\n",
      "98.79758420388566\n",
      "Total Probability: -55.77118130950412\n",
      "98.79758420388566\n",
      "Total Probability: -55.77118130950412\n",
      "90.87203482290003\n",
      "Total Probability: -55.77118130950412\n",
      "98.79758420388566\n",
      "Total Probability: -55.714597781137755\n"
     ]
    }
   ],
   "source": [
    "import re\n",
    "import math\n",
    "\n",
    "def sum_round_probabilities(file_path):\n",
    "    total_probability = 0.0\n",
    "    probability_pattern = re.compile(r\"\\[ 8\\] Round Best : 2\\^\\{(-?\\d+\\.\\d+)}\")\n",
    "\n",
    "    with open(file_path, 'r') as file:\n",
    "        for line in file:\n",
    "            match = probability_pattern.search(line)\n",
    "            if match:\n",
    "\n",
    "                exponent = float(match.group(1))\n",
    "                total_probability += 2 ** exponent\n",
    "\n",
    "    return total_probability\n",
    "\n",
    "for diff in differentials_repre:\n",
    "    result=0\n",
    "    xx = f\"{format(diff[0],'016X')}\"\n",
    "    yy = f\"{format(diff[1],'016X')}\"\n",
    "    file_path = f\"FLY_DT_IO_R8_[{xx}-{yy}][58.0-63.0].txt\"  # GAP = 5, diff_bound = -58\n",
    "    result = sum_round_probabilities(file_path)\n",
    "    print(K.cal_key_recov_comp_11R(diff[0], diff[1], -55.771, 1, 6.46))\n",
    "    print(f\"Total Probability: {math.log2(result)}\")"
   ]
  },
  {
   "cell_type": "code",
   "execution_count": null,
   "id": "42eab08c",
   "metadata": {},
   "outputs": [],
   "source": []
  },
  {
   "cell_type": "code",
   "execution_count": 7,
   "id": "cdec913f",
   "metadata": {},
   "outputs": [],
   "source": [
    "#(0x00000000000000c8, 0x4400000044000000)  \n",
    "#This differential serves as the reference for identifying better distinguishers for our key-recovery attack.\n"
   ]
  },
  {
   "cell_type": "code",
   "execution_count": 8,
   "id": "af455a16",
   "metadata": {},
   "outputs": [
    {
     "name": "stdout",
     "output_type": "stream",
     "text": [
      "start sorting FLY_All_BDTs_R8.txt...\n",
      "((2594073385365405696, 1224979098929987584, -58.0), 80.93258752505177)\n",
      "((4755801206503243776, 1224979098929987584, -58.0), 80.93258752505177)\n",
      "((2594073385365405696, 4683743612800860160, -58.0), 81.9226287107821)\n",
      "((2594073385365405696, 1441151881849077760, -58.0), 81.9226287107821)\n",
      "((4755801206503243776, 4683743612800860160, -58.0), 81.9226287107821)\n",
      "((4755801206503243776, 1441151881849077760, -58.0), 81.9226287107821)\n",
      "((2594073385365405696, 18691697676544, -60.0), 82.93258752505177)\n",
      "((4755801206503243776, 18691697676544, -60.0), 82.93258752505177)\n",
      "((2594073385365405696, 71468255810560, -60.0), 83.9226287107821)\n",
      "((2594073385365405696, 21990232572160, -60.0), 83.9226287107821)\n",
      "elapsed_time : 31.762121sec\n"
     ]
    }
   ],
   "source": [
    "NUM_OF_RIGHT_PAIR = 1 \n",
    "c_e = 6.46 # The number of S-box evaluations per encryption\n",
    "\n",
    "thres_comp = K.cal_key_recov_comp_11R(0x00000000000000c8, 0x4400000044000000, -55.771, 1, 6.46)\n",
    "FLY_time_comp_dict = dict()\n",
    "filename = f\"{ALGNAME}_All_BDTs_R{fly_tar_rounds}.txt\"\n",
    "\n",
    "start_time = time.time()\n",
    "\n",
    "print(f\"start sorting {filename}...\")   \n",
    "with open(filename, 'r') as f:\n",
    "    while True:\n",
    "\n",
    "        line1 = f.readline()\n",
    "        line2 = f.readline()\n",
    "        \n",
    "\n",
    "\n",
    "        if not line1 or not line2:\n",
    "            break \n",
    "\n",
    "        line1 = line1.strip()\n",
    "        line2 = line2.strip()\n",
    "\n",
    "        if '|' not in line2:\n",
    "            continue  \n",
    "\n",
    "        try:\n",
    "            hex_str, prob_str = map(str.strip, line2.split('|'))\n",
    "            diff_in = int(line1, 16)\n",
    "            diff_ou = int(hex_str, 16)\n",
    "            proba   = float(prob_str)\n",
    "            comp = K.cal_key_recov_comp_11R(diff_in, diff_ou, proba, NUM_OF_RIGHT_PAIR, c_e)\n",
    "            if (comp <= thres_comp):\n",
    "                FLY_time_comp_dict[(diff_in, diff_ou, proba)] = comp\n",
    "        except ValueError:\n",
    "            continue \n",
    "\n",
    "sorted_dict = sorted(FLY_time_comp_dict.items(), key = lambda item: item[1])\n",
    "for idx in range(10):\n",
    "    print(sorted_dict[idx])\n",
    "sorted_FLY_time_comp_dict = dict(sorted_dict)\n",
    "with open(\"sorted_comp_dict.pickle\", \"wb\") as f:\n",
    "    pickle.dump(sorted_FLY_time_comp_dict, f)\n",
    "\n",
    "end_time = time.time()\n",
    "elapsed_time = end_time - start_time\n",
    "\n",
    "print(f\"elapsed_time : {elapsed_time:.6f}sec\")\n"
   ]
  },
  {
   "cell_type": "markdown",
   "id": "0d025954",
   "metadata": {},
   "source": [
    "# (2594073385365405696, 1224979098929987584) = (0x2400000000000000, 0x1100000011000000)"
   ]
  },
  {
   "cell_type": "markdown",
   "id": "105bfdb1",
   "metadata": {},
   "source": [
    "# Perform clustering on the identified key-recovery-attack friendly distinguishers.\n"
   ]
  },
  {
   "cell_type": "code",
   "execution_count": 9,
   "id": "16e60f29",
   "metadata": {},
   "outputs": [
    {
     "name": "stdout",
     "output_type": "stream",
     "text": [
      "Total Probability: -56.77548834662345\n",
      "81.70258752505177\n",
      "118.92928411166672\n"
     ]
    }
   ],
   "source": [
    "opt_dist = (0x2400000000000000, 0x1100000011000000)\n",
    "NUM_OF_RIGHT_PAIR = 4 # To ensure a success probability above 90%, we use 4 right pairs.\n",
    "c_e1 = 6.46 # 11R FLY\n",
    "c_e2 = 6.58 # 12R FLY\n",
    "GAP = 17\n",
    "fly_tar_rounds = 8\n",
    "\n",
    "PROB_DICT = [0]\n",
    "for r_idx in range(1, fly_tar_rounds+1):\n",
    "    PROB_DICT = K.get_BDP(r_idx, PROB_DICT)\n",
    "#K.get_DT_IO(GAP, fly_tar_rounds, PROB_DICT, int_to_list(0x2400000000000000), int_to_list(0x1100000011000000))\n",
    "\n",
    "result=0\n",
    "xx = f\"{format(opt_dist[0],'016X')}\"\n",
    "yy = f\"{format(opt_dist[1],'016X')}\"\n",
    "file_path = f\"FLY_DT_IO_R8_[{xx}-{yy}][58.0-75.0].txt\"  # GAP = 17, diff_bound = -58\n",
    "result = sum_round_probabilities(file_path)\n",
    "print(f\"Total Probability: {math.log2(result)}\")\n",
    "print(K.cal_key_recov_comp_11R(opt_dist[0], opt_dist[1], -56.77, NUM_OF_RIGHT_PAIR, c_e1))\n",
    "print(K.cal_key_recov_comp_12R(opt_dist[0], opt_dist[1], -56.77, NUM_OF_RIGHT_PAIR, c_e2))\n",
    "\n"
   ]
  },
  {
   "cell_type": "markdown",
   "id": "59b835b2",
   "metadata": {},
   "source": [
    "# The LaTeX table reveals the pattern of the distinguisher we used."
   ]
  },
  {
   "cell_type": "code",
   "execution_count": 10,
   "id": "5586baf8",
   "metadata": {},
   "outputs": [],
   "source": [
    "K = Latex_tab(FLY_Sbox, fly_offset, NUM_SBOX_IN_A_STATE, ALGNAME)"
   ]
  },
  {
   "cell_type": "code",
   "execution_count": 11,
   "id": "fca34911",
   "metadata": {},
   "outputs": [],
   "source": [
    "from fly_latex_tabgen import latex_gen_inter_value"
   ]
  },
  {
   "cell_type": "code",
   "execution_count": 12,
   "id": "d2fb54bf",
   "metadata": {},
   "outputs": [],
   "source": [
    "opt_dist = (0x2400000000000000, 0x1100000011000000)"
   ]
  },
  {
   "cell_type": "code",
   "execution_count": 13,
   "id": "6ad56b44",
   "metadata": {},
   "outputs": [],
   "source": [
    "_1_mask = list_to_int(K.INVPERM(int_to_list(opt_dist[0])))\n",
    "_0_mask = 0xffffffffffffffff ^ _1_mask\n",
    "_d_mask = 0xffffffffffffffff ^ _1_mask ^ _0_mask\n",
    "\n",
    "_1_mask = int_to_list(_1_mask)\n",
    "_0_mask = int_to_list(_0_mask)\n",
    "_d_mask = int_to_list(_d_mask)\n",
    "\n",
    "_1_mask_IN = opt_dist[0]\n",
    "_0_mask_IN = 0xffffffffffffffff ^ _1_mask_IN\n",
    "_d_mask_IN = 0xffffffffffffffff ^ _1_mask_IN ^ _0_mask_IN\n",
    "\n",
    "_1_mask_IN = int_to_list(_1_mask_IN)\n",
    "_0_mask_IN = int_to_list(_0_mask_IN)\n",
    "_d_mask_IN = int_to_list(_d_mask_IN)\n",
    "\n",
    "\n",
    "_1_mask_OU = opt_dist[1]\n",
    "_0_mask_OU = 0xffffffffffffffff ^ list_to_int(K.PERM(int_to_list(opt_dist[1])))\n",
    "_d_mask_OU = 0xffffffffffffffff ^ _1_mask_OU ^ _0_mask_OU\n",
    "\n",
    "_1_mask_OU = int_to_list(_1_mask_OU)\n",
    "_0_mask_OU = int_to_list(_0_mask_OU)\n",
    "_d_mask_OU = int_to_list(_d_mask_OU)"
   ]
  },
  {
   "cell_type": "code",
   "execution_count": 14,
   "id": "652c58d9",
   "metadata": {},
   "outputs": [
    {
     "name": "stdout",
     "output_type": "stream",
     "text": [
      "%%%%%%%%%%%%%%%%%%%%%%%%%%%%%%FLY 11-Round%%%%%%%%%%%%%%%%%%%%%%%%%%%%%%\n",
      "\n",
      "\\begin{table}[h]\n",
      "\\centering\n",
      "\\scriptsize\n",
      "\\caption{Difference Values of $\\Delta K^i$, $\\Delta S^i$, and $\\Delta R^i$ used in the key-recovery attack on 11-Round \\textsf{FLY}.}\n",
      "\\begin{tabular}{|c|c|c|c|c|c|c|c|c|}\n",
      "\\hline\n",
      " & 0-th col. & 1-st col. & 2-nd col. & 3-rd col. & 4-th col. & 5-th col. & 6-th col. & 7-th col. \\\\\n",
      "\\hline\n",
      "$\\Delta K^0$ & \\texttt{00000000} & \\texttt{00000000} & \\texttt{11111111} & \\texttt{00000000} & \\texttt{00000000} & \\texttt{11111111} & \\texttt{00000000} & \\texttt{00000000} \\\\\n",
      "$\\Delta S^1$ & \\texttt{00000000} & \\texttt{00000000} & \\texttt{00100000} & \\texttt{00000000} & \\texttt{00000000} & \\texttt{00000100} & \\texttt{00000000} & \\texttt{00000000} \\\\\n",
      "$\\Delta R^1$ & \\texttt{00100100} & \\texttt{00000000} & \\texttt{00000000} & \\texttt{00000000} & \\texttt{00000000} & \\texttt{00000000} & \\texttt{00000000} & \\texttt{00000000} \\\\\n",
      "$\\Delta K^1$ & \\texttt{00100100} & \\texttt{00000000} & \\texttt{00000000} & \\texttt{00000000} & \\texttt{00000000} & \\texttt{00000000} & \\texttt{00000000} & \\texttt{00000000} \\\\\n",
      "$\\Delta K^9$ & \\texttt{00010001} & \\texttt{000*000*} & \\texttt{00000000} & \\texttt{00000000} & \\texttt{00010001} & \\texttt{000*000*} & \\texttt{00000000} & \\texttt{00000000} \\\\\n",
      "$\\Delta S^{11}$ & \\texttt{00000000} & \\texttt{*01**01*} & \\texttt{00000000} & \\texttt{00000000} & \\texttt{00000000} & \\texttt{*01**01*} & \\texttt{00000000} & \\texttt{00000000} \\\\\n",
      "$\\Delta R^{11}$ & \\texttt{00000000} & \\texttt{*000*000} & \\texttt{000*000*} & \\texttt{00100010} & \\texttt{00000000} & \\texttt{*000*000} & \\texttt{000*000*} & \\texttt{00100010} \\\\\n",
      "$\\Delta K^{11}$ & \\texttt{00000000} & \\texttt{*000*000} & \\texttt{000*000*} & \\texttt{00100010} & \\texttt{00000000} & \\texttt{*000*000} & \\texttt{000*000*} & \\texttt{00100010} \\\\\n",
      "$\\Delta S^{12}$ & \\texttt{00000000} & \\texttt{********} & \\texttt{********} & \\texttt{********} & \\texttt{00000000} & \\texttt{********} & \\texttt{********} & \\texttt{********} \\\\\n",
      "$\\Delta R^{12}$ & \\texttt{0***0***} & \\texttt{***0***0} & \\texttt{**0***0*} & \\texttt{*0***0**} & \\texttt{0***0***} & \\texttt{***0***0} & \\texttt{**0***0*} & \\texttt{*0***0**} \\\\\n",
      "$\\Delta K^{12}$ & \\texttt{0***0***} & \\texttt{***0***0} & \\texttt{**0***0*} & \\texttt{*0***0**} & \\texttt{0***0***} & \\texttt{***0***0} & \\texttt{**0***0*} & \\texttt{*0***0**} \\\\\n",
      "\\hline\n",
      "\\end{tabular}\n",
      "\\label{tab:difftrail64}\n",
      "\\end{table}\n"
     ]
    }
   ],
   "source": [
    "pre_str = \"%\"*30 + \"FLY 11-Round\" + \"%\"*30\n",
    "print(pre_str)\n",
    "\n",
    "lines =[K.Cal_INV_1r_BP(int_to_list(opt_dist[0])),K.bitmask_to_string(_0_mask, _1_mask, _d_mask),K.bitmask_to_string(_0_mask_IN, _1_mask_IN, _d_mask_IN),K.bitmask_to_string(_0_mask_IN, _1_mask_IN, _d_mask_IN), \n",
    "        K.bitmask_to_string(_0_mask_OU, _1_mask_OU, _d_mask_OU), K.Cal_1r_BP(int_to_list(opt_dist[1])), K.Cal_BP_1r_BP(int_to_list(opt_dist[1])), K.Cal_BP_1r_BP(int_to_list(opt_dist[1])), K.Cal_2r_BP(int_to_list(opt_dist[1])), K.Cal_BP_2r_BP(int_to_list(opt_dist[1])), K.Cal_BP_2r_BP(int_to_list(opt_dist[1]))]\n",
    "\n",
    "latex_gen_inter_value(lines)"
   ]
  },
  {
   "cell_type": "code",
   "execution_count": 15,
   "id": "f8806d67",
   "metadata": {},
   "outputs": [],
   "source": [
    "latex_code = r\"\"\"\n",
    "\\documentclass{article}\n",
    "\\usepackage[a4paper, landscape, margin=1in]{geometry}\n",
    "\\usepackage{array}\n",
    "\\usepackage{graphicx}\n",
    "\\usepackage{xcolor}\n",
    "\\usepackage{amssymb}\n",
    "\\usepackage{amsmath}\n",
    "\\usepackage{booktabs}\n",
    "\n",
    "\\begin{document}\n",
    "\n",
    "%%%%%%%%%%%%%%%%%%%%%%%%%%%%%%FLY 11-Round%%%%%%%%%%%%%%%%%%%%%%%%%%%%%%\n",
    "\n",
    "\\begin{table}[h]\n",
    "\\centering\n",
    "\\scriptsize\n",
    "\\caption{Difference Values of $\\Delta K^i$, $\\Delta S^i$, and $\\Delta R^i$ used in the key-recovery attack on 11-Round \\textsf{FLY}.}\n",
    "\\begin{tabular}{|c|c|c|c|c|c|c|c|c|}\n",
    "\\hline\n",
    " & 0-th col. & 1-st col. & 2-nd col. & 3-rd col. & 4-th col. & 5-th col. & 6-th col. & 7-th col. \\\\\n",
    "\\hline\n",
    "$\\Delta K^0$ & \\texttt{00000000} & \\texttt{00000000} & \\texttt{11111111} & \\texttt{00000000} & \\texttt{00000000} & \\texttt{11111111} & \\texttt{00000000} & \\texttt{00000000} \\\\\n",
    "$\\Delta S^1$ & \\texttt{00000000} & \\texttt{00000000} & \\texttt{00100000} & \\texttt{00000000} & \\texttt{00000000} & \\texttt{00000100} & \\texttt{00000000} & \\texttt{00000000} \\\\\n",
    "$\\Delta R^1$ & \\texttt{00100100} & \\texttt{00000000} & \\texttt{00000000} & \\texttt{00000000} & \\texttt{00000000} & \\texttt{00000000} & \\texttt{00000000} & \\texttt{00000000} \\\\\n",
    "$\\Delta K^1$ & \\texttt{00100100} & \\texttt{00000000} & \\texttt{00000000} & \\texttt{00000000} & \\texttt{00000000} & \\texttt{00000000} & \\texttt{00000000} & \\texttt{00000000} \\\\\n",
    "$\\Delta K^9$ & \\texttt{00010001} & \\texttt{000*000*} & \\texttt{00000000} & \\texttt{00000000} & \\texttt{00010001} & \\texttt{000*000*} & \\texttt{00000000} & \\texttt{00000000} \\\\\n",
    "$\\Delta S^{11}$ & \\texttt{00000000} & \\texttt{*01**01*} & \\texttt{00000000} & \\texttt{00000000} & \\texttt{00000000} & \\texttt{*01**01*} & \\texttt{00000000} & \\texttt{00000000} \\\\\n",
    "$\\Delta R^{11}$ & \\texttt{00000000} & \\texttt{*000*000} & \\texttt{000*000*} & \\texttt{00100010} & \\texttt{00000000} & \\texttt{*000*000} & \\texttt{000*000*} & \\texttt{00100010} \\\\\n",
    "$\\Delta K^{11}$ & \\texttt{00000000} & \\texttt{*000*000} & \\texttt{000*000*} & \\texttt{00100010} & \\texttt{00000000} & \\texttt{*000*000} & \\texttt{000*000*} & \\texttt{00100010} \\\\\n",
    "$\\Delta S^{12}$ & \\texttt{00000000} & \\texttt{********} & \\texttt{********} & \\texttt{********} & \\texttt{00000000} & \\texttt{********} & \\texttt{********} & \\texttt{********} \\\\\n",
    "$\\Delta R^{12}$ & \\texttt{0***0***} & \\texttt{***0***0} & \\texttt{**0***0*} & \\texttt{*0***0**} & \\texttt{0***0***} & \\texttt{***0***0} & \\texttt{**0***0*} & \\texttt{*0***0**} \\\\\n",
    "$\\Delta K^{12}$ & \\texttt{0***0***} & \\texttt{***0***0} & \\texttt{**0***0*} & \\texttt{*0***0**} & \\texttt{0***0***} & \\texttt{***0***0} & \\texttt{**0***0*} & \\texttt{*0***0**} \\\\\n",
    "\\hline\n",
    "\\end{tabular}\n",
    "\\label{tab:difftrail64}\n",
    "\\end{table}\n",
    "\n",
    "\\end{document}\n",
    "\"\"\"\n",
    "with open(\"fly_table_11r.tex\", \"w\") as f:\n",
    "    f.write(latex_code)"
   ]
  },
  {
   "cell_type": "code",
   "execution_count": 16,
   "id": "9ac49662",
   "metadata": {},
   "outputs": [
    {
     "name": "stdout",
     "output_type": "stream",
     "text": [
      "PDF successfully generated.\n"
     ]
    }
   ],
   "source": [
    "import subprocess\n",
    "\n",
    "result = subprocess.run([\"pdflatex\", \"fly_table_11r.tex\"], capture_output=True, text=True)\n",
    "\n",
    "\n",
    "if result.returncode == 0:\n",
    "    print(\"PDF successfully generated.\")\n",
    "else:\n",
    "    print(\"Error during PDF generation:\")\n",
    "    print(result.stderr)\n"
   ]
  },
  {
   "cell_type": "code",
   "execution_count": 17,
   "id": "fce13d2a",
   "metadata": {},
   "outputs": [
    {
     "data": {
      "text/html": [
       "\n",
       "        <iframe\n",
       "            width=\"800\"\n",
       "            height=\"600\"\n",
       "            src=\"fly_table_11r.pdf\"\n",
       "            frameborder=\"0\"\n",
       "            allowfullscreen\n",
       "            \n",
       "        ></iframe>\n",
       "        "
      ],
      "text/plain": [
       "<IPython.lib.display.IFrame at 0x164ff4aea70>"
      ]
     },
     "execution_count": 17,
     "metadata": {},
     "output_type": "execute_result"
    }
   ],
   "source": [
    "from IPython.display import IFrame\n",
    "\n",
    "IFrame(\"fly_table_11r.pdf\", width=800, height=600)\n"
   ]
  },
  {
   "cell_type": "code",
   "execution_count": null,
   "id": "51b5dbe5",
   "metadata": {},
   "outputs": [],
   "source": []
  },
  {
   "cell_type": "code",
   "execution_count": null,
   "id": "bf14000e",
   "metadata": {},
   "outputs": [],
   "source": []
  },
  {
   "cell_type": "code",
   "execution_count": 18,
   "id": "0a4863f7",
   "metadata": {},
   "outputs": [
    {
     "name": "stdout",
     "output_type": "stream",
     "text": [
      "%%%%%%%%%%%%%%%%%%%%%%%%%%%%%%FLY 12-Round%%%%%%%%%%%%%%%%%%%%%%%%%%%%%%\n",
      "\n",
      "\\begin{table}[h]\n",
      "\\centering\n",
      "\\scriptsize\n",
      "\\caption{Difference Values of $\\Delta K^i$, $\\Delta S^i$, and $\\Delta R^i$ used in the key-recovery attack on 12-Round \\textsf{FLY}.}\n",
      "\\begin{tabular}{|c|c|c|c|c|c|c|c|c|}\n",
      "\\hline\n",
      " & 0-th col. & 1-st col. & 2-nd col. & 3-rd col. & 4-th col. & 5-th col. & 6-th col. & 7-th col. \\\\\n",
      "\\hline\n",
      "$\\Delta K^0$ & \\texttt{00010010} & \\texttt{00001001} & \\texttt{10000100} & \\texttt{01000010} & \\texttt{00100001} & \\texttt{10010000} & \\texttt{01001000} & \\texttt{00100100} \\\\\n",
      "$\\Delta S^1$ & \\texttt{00010010} & \\texttt{00001001} & \\texttt{10000100} & \\texttt{01000010} & \\texttt{00100001} & \\texttt{10010000} & \\texttt{01001000} & \\texttt{00100100} \\\\\n",
      "$\\Delta R^1$ & \\texttt{00000000} & \\texttt{00000000} & \\texttt{11111111} & \\texttt{00000000} & \\texttt{00000000} & \\texttt{11111111} & \\texttt{00000000} & \\texttt{00000000} \\\\\n",
      "$\\Delta K^1$ & \\texttt{00000000} & \\texttt{00000000} & \\texttt{11111111} & \\texttt{00000000} & \\texttt{00000000} & \\texttt{11111111} & \\texttt{00000000} & \\texttt{00000000} \\\\\n",
      "$\\Delta S^2$ & \\texttt{00000000} & \\texttt{00000000} & \\texttt{00100000} & \\texttt{00000000} & \\texttt{00000000} & \\texttt{00000100} & \\texttt{00000000} & \\texttt{00000000} \\\\\n",
      "$\\Delta R^2$ & \\texttt{00100100} & \\texttt{00000000} & \\texttt{00000000} & \\texttt{00000000} & \\texttt{00000000} & \\texttt{00000000} & \\texttt{00000000} & \\texttt{00000000} \\\\\n",
      "$\\Delta K^2$ & \\texttt{00100100} & \\texttt{00000000} & \\texttt{00000000} & \\texttt{00000000} & \\texttt{00000000} & \\texttt{00000000} & \\texttt{00000000} & \\texttt{00000000} \\\\\n",
      "$\\Delta K^{10}$ & \\texttt{00010001} & \\texttt{000*000*} & \\texttt{00000000} & \\texttt{00000000} & \\texttt{00010001} & \\texttt{000*000*} & \\texttt{00000000} & \\texttt{00000000} \\\\\n",
      "$\\Delta S^{11}$ & \\texttt{00000000} & \\texttt{*01**01*} & \\texttt{00000000} & \\texttt{00000000} & \\texttt{00000000} & \\texttt{*01**01*} & \\texttt{00000000} & \\texttt{00000000} \\\\\n",
      "$\\Delta R^{11}$ & \\texttt{00000000} & \\texttt{*000*000} & \\texttt{000*000*} & \\texttt{00100010} & \\texttt{00000000} & \\texttt{*000*000} & \\texttt{000*000*} & \\texttt{00100010} \\\\\n",
      "$\\Delta K^{11}$ & \\texttt{00000000} & \\texttt{*000*000} & \\texttt{000*000*} & \\texttt{00100010} & \\texttt{00000000} & \\texttt{*000*000} & \\texttt{000*000*} & \\texttt{00100010} \\\\\n",
      "$\\Delta S^{12}$ & \\texttt{00000000} & \\texttt{********} & \\texttt{********} & \\texttt{********} & \\texttt{00000000} & \\texttt{********} & \\texttt{********} & \\texttt{********} \\\\\n",
      "$\\Delta R^{12}$ & \\texttt{0***0***} & \\texttt{***0***0} & \\texttt{**0***0*} & \\texttt{*0***0**} & \\texttt{0***0***} & \\texttt{***0***0} & \\texttt{**0***0*} & \\texttt{*0***0**} \\\\\n",
      "$\\Delta K^{12}$ & \\texttt{0***0***} & \\texttt{***0***0} & \\texttt{**0***0*} & \\texttt{*0***0**} & \\texttt{0***0***} & \\texttt{***0***0} & \\texttt{**0***0*} & \\texttt{*0***0**} \\\\\n",
      "\\hline\n",
      "\\end{tabular}\n",
      "\\label{tab:difftrail64}\n",
      "\\end{table}\n"
     ]
    }
   ],
   "source": [
    "\n",
    "pre_str = \"%\"*30 + \"FLY 12-Round\" + \"%\"*30\n",
    "print(pre_str)\n",
    "lines =[K.Cal_INV_2r_BP(int_to_list(opt_dist[0])), K.Cal_INV_BP_1r_BP(int_to_list(opt_dist[0])), K.Cal_INV_1r_BP(int_to_list(opt_dist[0])), K.Cal_INV_1r_BP(int_to_list(opt_dist[0])),K.bitmask_to_string(_0_mask, _1_mask, _d_mask),K.bitmask_to_string(_0_mask_IN, _1_mask_IN, _d_mask_IN),K.bitmask_to_string(_0_mask_IN, _1_mask_IN, _d_mask_IN), \n",
    "        K.bitmask_to_string(_0_mask_OU, _1_mask_OU, _d_mask_OU), K.Cal_1r_BP(int_to_list(opt_dist[1])), K.Cal_BP_1r_BP(int_to_list(opt_dist[1])), K.Cal_BP_1r_BP(int_to_list(opt_dist[1])), K.Cal_2r_BP(int_to_list(opt_dist[1])), K.Cal_BP_2r_BP(int_to_list(opt_dist[1])), K.Cal_BP_2r_BP(int_to_list(opt_dist[1]))]\n",
    "\n",
    "latex_gen_inter_value(lines)\n",
    "\n"
   ]
  },
  {
   "cell_type": "code",
   "execution_count": 19,
   "id": "ede9ce86",
   "metadata": {},
   "outputs": [],
   "source": [
    "latex_code = r\"\"\"\n",
    "\\documentclass{article}\n",
    "\\usepackage[a4paper, landscape, margin=1in]{geometry}\n",
    "\\usepackage{array}\n",
    "\\usepackage{graphicx}\n",
    "\\usepackage{xcolor}\n",
    "\\usepackage{amssymb}\n",
    "\\usepackage{amsmath}\n",
    "\\usepackage{booktabs}\n",
    "\n",
    "\\begin{document}\n",
    "\n",
    "%%%%%%%%%%%%%%%%%%%%%%%%%%%%%%FLY 12-Round%%%%%%%%%%%%%%%%%%%%%%%%%%%%%%\n",
    "\n",
    "\\begin{table}[h]\n",
    "\\centering\n",
    "\\scriptsize\n",
    "\\caption{Difference Values of $\\Delta K^i$, $\\Delta S^i$, and $\\Delta R^i$ used in the key-recovery attack on 12-Round \\textsf{FLY}.}\n",
    "\\begin{tabular}{|c|c|c|c|c|c|c|c|c|}\n",
    "\\hline\n",
    " & 0-th col. & 1-st col. & 2-nd col. & 3-rd col. & 4-th col. & 5-th col. & 6-th col. & 7-th col. \\\\\n",
    "\\hline\n",
    "$\\Delta K^0$ & \\texttt{00010010} & \\texttt{00001001} & \\texttt{10000100} & \\texttt{01000010} & \\texttt{00100001} & \\texttt{10010000} & \\texttt{01001000} & \\texttt{00100100} \\\\\n",
    "$\\Delta S^1$ & \\texttt{00010010} & \\texttt{00001001} & \\texttt{10000100} & \\texttt{01000010} & \\texttt{00100001} & \\texttt{10010000} & \\texttt{01001000} & \\texttt{00100100} \\\\\n",
    "$\\Delta R^1$ & \\texttt{00000000} & \\texttt{00000000} & \\texttt{11111111} & \\texttt{00000000} & \\texttt{00000000} & \\texttt{11111111} & \\texttt{00000000} & \\texttt{00000000} \\\\\n",
    "$\\Delta K^1$ & \\texttt{00000000} & \\texttt{00000000} & \\texttt{11111111} & \\texttt{00000000} & \\texttt{00000000} & \\texttt{11111111} & \\texttt{00000000} & \\texttt{00000000} \\\\\n",
    "$\\Delta S^2$ & \\texttt{00000000} & \\texttt{00000000} & \\texttt{00100000} & \\texttt{00000000} & \\texttt{00000000} & \\texttt{00000100} & \\texttt{00000000} & \\texttt{00000000} \\\\\n",
    "$\\Delta R^2$ & \\texttt{00100100} & \\texttt{00000000} & \\texttt{00000000} & \\texttt{00000000} & \\texttt{00000000} & \\texttt{00000000} & \\texttt{00000000} & \\texttt{00000000} \\\\\n",
    "$\\Delta K^2$ & \\texttt{00100100} & \\texttt{00000000} & \\texttt{00000000} & \\texttt{00000000} & \\texttt{00000000} & \\texttt{00000000} & \\texttt{00000000} & \\texttt{00000000} \\\\\n",
    "$\\Delta K^{10}$ & \\texttt{00010001} & \\texttt{000*000*} & \\texttt{00000000} & \\texttt{00000000} & \\texttt{00010001} & \\texttt{000*000*} & \\texttt{00000000} & \\texttt{00000000} \\\\\n",
    "$\\Delta S^{11}$ & \\texttt{00000000} & \\texttt{*01**01*} & \\texttt{00000000} & \\texttt{00000000} & \\texttt{00000000} & \\texttt{*01**01*} & \\texttt{00000000} & \\texttt{00000000} \\\\\n",
    "$\\Delta R^{11}$ & \\texttt{00000000} & \\texttt{*000*000} & \\texttt{000*000*} & \\texttt{00100010} & \\texttt{00000000} & \\texttt{*000*000} & \\texttt{000*000*} & \\texttt{00100010} \\\\\n",
    "$\\Delta K^{11}$ & \\texttt{00000000} & \\texttt{*000*000} & \\texttt{000*000*} & \\texttt{00100010} & \\texttt{00000000} & \\texttt{*000*000} & \\texttt{000*000*} & \\texttt{00100010} \\\\\n",
    "$\\Delta S^{12}$ & \\texttt{00000000} & \\texttt{********} & \\texttt{********} & \\texttt{********} & \\texttt{00000000} & \\texttt{********} & \\texttt{********} & \\texttt{********} \\\\\n",
    "$\\Delta R^{12}$ & \\texttt{0***0***} & \\texttt{***0***0} & \\texttt{**0***0*} & \\texttt{*0***0**} & \\texttt{0***0***} & \\texttt{***0***0} & \\texttt{**0***0*} & \\texttt{*0***0**} \\\\\n",
    "$\\Delta K^{12}$ & \\texttt{0***0***} & \\texttt{***0***0} & \\texttt{**0***0*} & \\texttt{*0***0**} & \\texttt{0***0***} & \\texttt{***0***0} & \\texttt{**0***0*} & \\texttt{*0***0**} \\\\\n",
    "\\hline\n",
    "\\end{tabular}\n",
    "\\label{tab:difftrail64}\n",
    "\\end{table}\n",
    "\n",
    "\\end{document}\n",
    "\"\"\"\n",
    "with open(\"fly_table_12r.tex\", \"w\") as f:\n",
    "    f.write(latex_code)"
   ]
  },
  {
   "cell_type": "code",
   "execution_count": 20,
   "id": "997e3623",
   "metadata": {},
   "outputs": [
    {
     "name": "stdout",
     "output_type": "stream",
     "text": [
      "PDF successfully generated.\n"
     ]
    }
   ],
   "source": [
    "import subprocess\n",
    "\n",
    "result = subprocess.run([\"pdflatex\", \"fly_table_12r.tex\"], capture_output=True, text=True)\n",
    "\n",
    "\n",
    "if result.returncode == 0:\n",
    "    print(\"PDF successfully generated.\")\n",
    "else:\n",
    "    print(\"Error during PDF generation:\")\n",
    "    print(result.stderr)\n"
   ]
  },
  {
   "cell_type": "code",
   "execution_count": 21,
   "id": "67bd6477",
   "metadata": {},
   "outputs": [
    {
     "data": {
      "text/html": [
       "\n",
       "        <iframe\n",
       "            width=\"800\"\n",
       "            height=\"600\"\n",
       "            src=\"fly_table_12r.pdf\"\n",
       "            frameborder=\"0\"\n",
       "            allowfullscreen\n",
       "            \n",
       "        ></iframe>\n",
       "        "
      ],
      "text/plain": [
       "<IPython.lib.display.IFrame at 0x164ff4b9fc0>"
      ]
     },
     "execution_count": 21,
     "metadata": {},
     "output_type": "execute_result"
    }
   ],
   "source": [
    "from IPython.display import IFrame\n",
    "\n",
    "IFrame(\"fly_table_12r.pdf\", width=800, height=600)\n"
   ]
  },
  {
   "cell_type": "code",
   "execution_count": null,
   "id": "ef920756",
   "metadata": {},
   "outputs": [],
   "source": []
  },
  {
   "cell_type": "markdown",
   "id": "bf2c53ac",
   "metadata": {},
   "source": [
    "# The tables and computational complexities presented in our paper can be verified both through manual calculations and by comparing them with the outputs generated by our program."
   ]
  },
  {
   "cell_type": "code",
   "execution_count": 22,
   "id": "618d2a10",
   "metadata": {},
   "outputs": [],
   "source": [
    "import math\n",
    "def summation(L, i):\n",
    "    sum = 0\n",
    "    for j in range(i+1):\n",
    "        sum = sum + L[j]\n",
    "    return sum\n",
    "def cal_inner_kr_comp(f,g):\n",
    "    diff_list = [f[i] - g[i] for i in range(len(f))]\n",
    "    sum = 0\n",
    "    for i in range(len(f)):\n",
    "        sum = sum + 2**summation(diff_list,i)\n",
    "        #print(sum)\n",
    "        \n",
    "    return sum"
   ]
  },
  {
   "cell_type": "code",
   "execution_count": 23,
   "id": "ad017dd2",
   "metadata": {},
   "outputs": [],
   "source": [
    "tab_g_fly_11r = [8, 8, 8, 8, 8, 8, 8, 8, 8, 8, 6, 6]\n",
    "tab_f_fly_11r = [8, 8, 8, 8, 6, 6, 6, 6, 0, 0, 4, 4]"
   ]
  },
  {
   "cell_type": "code",
   "execution_count": 24,
   "id": "8d708c0d",
   "metadata": {},
   "outputs": [
    {
     "name": "stdout",
     "output_type": "stream",
     "text": [
      "81.70302067766097\n"
     ]
    }
   ],
   "source": [
    "print(math.log2(4*2**(56.77+1+16+48-64)*(1 + 2**(-6.46)*cal_inner_kr_comp(tab_g_fly_11r,tab_f_fly_11r)) + 4*2**(56.77+1) + 2**(128-58)))"
   ]
  },
  {
   "cell_type": "code",
   "execution_count": null,
   "id": "0bb31ecc",
   "metadata": {},
   "outputs": [],
   "source": []
  },
  {
   "cell_type": "code",
   "execution_count": 25,
   "id": "26b7daeb",
   "metadata": {},
   "outputs": [],
   "source": [
    "tab_g_fly_12r = [8, 8, 8, 8, 8, 8, 8, 8, 8, 8, 0, 0, 0, 0, 0, 0, 0, 0, 6, 6]\n",
    "tab_f_fly_12r = [6, 6, 6, 6, 6, 6, 6, 6, 8, 8, 8, 8, 8, 8, 8, 8, 8, 8, 4, 4]"
   ]
  },
  {
   "cell_type": "code",
   "execution_count": 26,
   "id": "be6bc9cd",
   "metadata": {},
   "outputs": [
    {
     "name": "stdout",
     "output_type": "stream",
     "text": [
      "118.92930715237281\n"
     ]
    }
   ],
   "source": [
    "print(math.log2(4*2**(56.77+1+64+48-64)*(1 + 2**(-6.58)*cal_inner_kr_comp(tab_g_fly_12r,tab_f_fly_12r)) + 2**(61.89) + 2**(128-25)))"
   ]
  },
  {
   "cell_type": "code",
   "execution_count": null,
   "id": "5743c093",
   "metadata": {},
   "outputs": [],
   "source": []
  },
  {
   "cell_type": "markdown",
   "id": "ff93943d",
   "metadata": {},
   "source": [
    "# The key-recovery complexity and the infeasibility of the 12-round key-recovery attack, as presented in the paper Generating Graphs Packed with Paths, are as follows:"
   ]
  },
  {
   "cell_type": "code",
   "execution_count": 28,
   "id": "eeca7b03",
   "metadata": {},
   "outputs": [],
   "source": [
    "tab_g_fly_11r_ref = [8, 8, 8, 8, 8, 8, 8, 8, 8, 8, 8, 5, 5, ]\n",
    "tab_f_fly_11r_ref = [8, 8, 8, 6, 6, 6, 6, 6, 6, 6, 6, 8, 8]"
   ]
  },
  {
   "cell_type": "code",
   "execution_count": 29,
   "id": "c5c3b573",
   "metadata": {},
   "outputs": [
    {
     "name": "stdout",
     "output_type": "stream",
     "text": [
      "92.87103501112121\n"
     ]
    }
   ],
   "source": [
    "print(math.log2(4*2**(55.77+1+24+64-64)*(1 + 2**(-6.46)*cal_inner_kr_comp(tab_g_fly_11r_ref,tab_f_fly_11r_ref)) + 2**(59.77) + 2**(128-58)))"
   ]
  },
  {
   "cell_type": "code",
   "execution_count": 27,
   "id": "5c427f22",
   "metadata": {},
   "outputs": [
    {
     "name": "stdout",
     "output_type": "stream",
     "text": [
      "92.87103482290004\n"
     ]
    }
   ],
   "source": [
    "print(K.cal_key_recov_comp_11R(0x00000000000000c8, 0x4400000044000000, -55.77, 4, 6.46))"
   ]
  },
  {
   "cell_type": "code",
   "execution_count": 30,
   "id": "6cd4288d",
   "metadata": {},
   "outputs": [
    {
     "name": "stdout",
     "output_type": "stream",
     "text": [
      "142.24614503260992\n"
     ]
    }
   ],
   "source": [
    "print(K.cal_key_recov_comp_12R(0x00000000000000c8, 0x4400000044000000, -55.77, 4, 6.58))"
   ]
  },
  {
   "cell_type": "code",
   "execution_count": null,
   "id": "fb8e18e9",
   "metadata": {},
   "outputs": [],
   "source": []
  }
 ],
 "metadata": {
  "kernelspec": {
   "display_name": "Python 3 (ipykernel)",
   "language": "python",
   "name": "python3"
  },
  "language_info": {
   "codemirror_mode": {
    "name": "ipython",
    "version": 3
   },
   "file_extension": ".py",
   "mimetype": "text/x-python",
   "name": "python",
   "nbconvert_exporter": "python",
   "pygments_lexer": "ipython3",
   "version": "3.10.5"
  }
 },
 "nbformat": 4,
 "nbformat_minor": 5
}
